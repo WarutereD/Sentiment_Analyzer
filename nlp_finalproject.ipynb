{
 "cells": [
  {
   "cell_type": "code",
   "execution_count": null,
   "metadata": {},
   "outputs": [],
   "source": [
    "from text_processor import process_text_from_url\n",
    "\n",
    "url = 'https://en.wikipedia.org/wiki/Quora'  # Replace with the URL of the website you want to scrape\n",
    "process_text_from_url(url)   # Will save data as Cleaned_Dataset_1.csv"
   ]
  },
  {
   "cell_type": "code",
   "execution_count": null,
   "metadata": {},
   "outputs": [],
   "source": [
    "import gradio as gr\n",
    "import pandas as pd\n",
    "from model import predict_sentiment\n",
    "\n",
    "# Define input and output interfaces\n",
    "input_text = gr.inputs.Textbox(label=\"Input Text\")\n",
    "output_sentiment = gr.outputs.Textbox(label=\"Sentiment\")\n",
    "\n",
    "\n",
    "iface_text = gr.Interface(fn=predict_sentiment, inputs=input_text, outputs=output_sentiment, \n",
    "             title=\"Swahili Sentiment Analyzer for Text\", \n",
    "             description=\"Predict the sentiment of Swahili text using an SVM classifier trained on a dataset of Swahili text.\")\n",
    "\n",
    "iface_text.launch()\n"
   ]
  }
 ],
 "metadata": {
  "kernelspec": {
   "display_name": "Python 3",
   "language": "python",
   "name": "python3"
  },
  "language_info": {
   "codemirror_mode": {
    "name": "ipython",
    "version": 3
   },
   "file_extension": ".py",
   "mimetype": "text/x-python",
   "name": "python",
   "nbconvert_exporter": "python",
   "pygments_lexer": "ipython3",
   "version": "3.10.4"
  },
  "orig_nbformat": 4
 },
 "nbformat": 4,
 "nbformat_minor": 2
}
