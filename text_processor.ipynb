{
 "cells": [
  {
   "cell_type": "code",
   "execution_count": null,
   "metadata": {},
   "outputs": [],
   "source": [
    "import requests\n",
    "from bs4 import BeautifulSoup\n",
    "\n",
    "url = 'https://en.wikipedia.org/wiki/Quora'  # Replace with the URL of the website you want to scrape\n",
    "response = requests.get(url)\n",
    "soup = BeautifulSoup(response.text, 'html.parser')\n",
    "\n",
    "# Find all the <p> tags on the page\n",
    "paragraphs = soup.find_all('p')\n",
    "print(\"hello\")\n",
    "\n",
    "# Print the text of each paragraph\n",
    "for p in paragraphs:\n",
    "    print(p.text)\n",
    "    "
   ]
  },
  {
   "cell_type": "code",
   "execution_count": null,
   "metadata": {},
   "outputs": [],
   "source": [
    "import pandas as pd\n",
    "import re\n",
    "import nltk\n",
    "from nltk.corpus import stopwords\n",
    "from nltk.tokenize import word_tokenize\n",
    "from nltk.stem import SnowballStemmer, WordNetLemmatizer\n",
    "from wordcloud import WordCloud, STOPWORDS\n",
    "import matplotlib.pyplot as plt\n",
    "import requests\n",
    "from bs4 import BeautifulSoup\n",
    "\n",
    "def process_text_from_url(url):\n",
    "    # Scrape text data from a website\n",
    "    response = requests.get(url)\n",
    "    soup = BeautifulSoup(response.text, 'html.parser')\n",
    "    text_data = soup.get_text()\n",
    "\n",
    "    # Create a DataFrame with the scraped text data\n",
    "    data = pd.DataFrame({'text': [text_data]})\n",
    "\n",
    "    # Remove URLs\n",
    "    data['text'] = data['text'].apply(lambda x: re.sub(r'http\\S+', '', x))\n",
    "\n",
    "    # Remove special characters\n",
    "    data['text'] = data['text'].apply(lambda x: re.sub(r'[^a-zA-Z0-9]+', ' ', x))\n",
    "\n",
    "    # Convert text to lowercase\n",
    "    data['text'] = data['text'].apply(lambda x: x.lower())\n",
    "\n",
    "    # Tokenize the text data\n",
    "    data['tokenized_text'] = data['text'].apply(lambda x: word_tokenize(x))\n",
    "\n",
    "    # Remove stopwords\n",
    "    stop_words = set(stopwords.words('swahili'))\n",
    "\n",
    "    data['filtered_tokens'] = data['tokenized_text'].apply(lambda x: [token for token in x if token not in stop_words])\n",
    "\n",
    "    stemmer = SnowballStemmer('english')\n",
    "\n",
    "    data['stemmed_tokens'] = data['filtered_tokens'].apply(lambda x: [stemmer.stem(token) for token in x])\n",
    "\n",
    "    # Display a sample of the stemmed data\n",
    "    print(data['stemmed_tokens'].sample(min(10, len(data)), replace=True))\n",
    "\n",
    "    lemmatizer = WordNetLemmatizer()\n",
    "\n",
    "    data['lemmatized_tokens'] = data['filtered_tokens'].apply(lambda x: [lemmatizer.lemmatize(token) for token in x])\n",
    "\n",
    "    # Display a sample of the lemmatized data\n",
    "    print(data['lemmatized_tokens'].sample(min(10, len(data)), replace=True))\n",
    "\n",
    "    all_words = ' '.join([word for tokens in data['lemmatized_tokens'] for word in tokens])\n",
    "    wordcloud = WordCloud(width=800, height=500, random_state=21, max_font_size=110, stopwords=STOPWORDS).generate(all_words)\n",
    "\n",
    "    plt.figure(figsize=(10, 7))\n",
    "    plt.imshow(wordcloud, interpolation=\"bilinear\")\n",
    "    plt.axis('off')\n",
    "    plt.show()\n",
    "\n",
    "    data.to_csv('Cleaned_Dataset_1.csv', index=False)\n",
    "    return data\n"
   ]
  }
 ],
 "metadata": {
  "kernelspec": {
   "display_name": "Python 3",
   "language": "python",
   "name": "python3"
  },
  "language_info": {
   "codemirror_mode": {
    "name": "ipython",
    "version": 3
   },
   "file_extension": ".py",
   "mimetype": "text/x-python",
   "name": "python",
   "nbconvert_exporter": "python",
   "pygments_lexer": "ipython3",
   "version": "3.10.4"
  },
  "orig_nbformat": 4,
  "vscode": {
   "interpreter": {
    "hash": "3ad933181bd8a04b432d3370b9dc3b0662ad032c4dfaa4e4f1596c548f763858"
   }
  }
 },
 "nbformat": 4,
 "nbformat_minor": 2
}
