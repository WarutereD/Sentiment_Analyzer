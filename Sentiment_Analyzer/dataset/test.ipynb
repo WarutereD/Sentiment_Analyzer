def encrypt(M, W, plaintext):
    """
    Takes a super-increasing sequence of length 8, M, W, and plaintext - binary string of length 8 as input 
    and produces the public key and the cipher-text as output.
    """
    # Generate the public key
    public_key = [W[0]]
    for i in range(1, 8):
        public_key.append(public_key[i-1] + W[i])

    # Encrypt the plaintext
    cipher_text = 0
    for i in range(8):
        if plaintext[i] == '1':
            cipher_text += public_key[i]

    # Return the public key and cipher-text
    return public_key, cipher_text
